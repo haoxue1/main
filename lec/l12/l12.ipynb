{
 "cells": [
  {
   "cell_type": "markdown",
   "metadata": {
    "slideshow": {
     "slide_type": "slide"
    }
   },
   "source": [
    "# CS579: Lecture 12  \n",
    "\n",
    "** Demographic Inference I**\n",
    "\n",
    "*[Dr. Aron Culotta](http://cs.iit.edu/~culotta)*  \n",
    "*[Illinois Institute of Technology](http://iit.edu)*"
   ]
  },
  {
   "cell_type": "markdown",
   "metadata": {},
   "source": [
    "# Midterm review \n",
    "\n",
    "~5 True/False, ~6 short answer\n",
    " \n",
    "**Topics:** \n",
    "- Twitter API \n",
    " - what comes in a tweet? \n",
    " - how do rate limits work? \n",
    " - can you understand API documentation? \n",
    "- graph basics: \n",
    " - directed/undirected \n",
    " - path \n",
    " - cycle \n",
    " - connected \n",
    " - connected component \n",
    " - degree (distribution) \n",
    " - diameter \n",
    " - average path length \n",
    " - clustering coefficient \n",
    "- modeling networks \n",
    " - random graphs \n",
    " - regular graphs \n",
    " - rewired graphs \n",
    " - what makes a small world? \n",
    "- community detection \n",
    " - girvan-newman (betweenness) \n",
    " - graph cuts \n",
    " - representing graphs with matrices \n",
    " - graph laplacian \n",
    "- link prediction \n",
    " - shortest path \n",
    " - common neighbors \n",
    " - jaccard \n",
    " - preferential attachment \n",
    " - sim rank \n",
    " - evaluation \n",
    "- information cascades \n",
    " - urn experiment \n",
    " - bayes' theorem for decision making \n",
    " - game-theoretic model \n",
    " - maximizing payoff \n",
    "\t- cluster density \n",
    "- sentiment analysis \n",
    " - lexicon approach \n",
    " - machine learning \n",
    " \n",
    "**Question types:** \n",
    "- What does this algorithm output? \n",
    " - E.g., what is jaccard score for a specific link? \n",
    " - E.g., what is the next step in girvan-newman? \n",
    "- What does this code do? \n",
    " - E.g., I give you a new graph-generating algorithm, tell me what it produces \n",
    "- Write a new algorithm \n",
    " - E.g., provide pseudo-code the linear-threshold cascade model \n",
    "- True/False \n",
    " - E.g., small world graphs have higher clustering coefficients than random graphs."
   ]
  },
  {
   "cell_type": "markdown",
   "metadata": {
    "slideshow": {
     "slide_type": "slide"
    }
   },
   "source": [
    "**dem·o·graph·ics**\n",
    "\n",
    "statistical data relating to the population and particular groups within it.\n",
    "\n",
    "E.g., age, ethnicity, gender, income, ..."
   ]
  },
  {
   "cell_type": "markdown",
   "metadata": {
    "slideshow": {
     "slide_type": "slide"
    }
   },
   "source": [
    "# Why Demographics?\n",
    "\n",
    "- Marketing\n",
    "  - Who are my customers?\n",
    "  - Who are my competitors' customers?\n",
    "  - E.g., [DemographicsPro](http://www.demographicspro.com/samples#c=%40FamilyGuyonFOX)\n",
    "  \n",
    "- Social Media as Surveys\n",
    "  - E.g., 45% of tweets express positive sentiment toward Pres. Obama\n",
    "  - Who wrote those tweets?\n",
    "  \n",
    "- Health\n",
    "  - 2% of Facebook users are expressing flu-like symptoms\n",
    "  - Are they representative of the full population?\n",
    "\n"
   ]
  },
  {
   "cell_type": "markdown",
   "metadata": {
    "slideshow": {
     "slide_type": "slide"
    }
   },
   "source": [
    "** User profiles vary from site to site. **"
   ]
  },
  {
   "cell_type": "markdown",
   "metadata": {
    "slideshow": {
     "slide_type": "slide"
    }
   },
   "source": [
    "![rahm](rahm.png)"
   ]
  },
  {
   "cell_type": "markdown",
   "metadata": {
    "slideshow": {
     "slide_type": "slide"
    }
   },
   "source": [
    "![rahm-fb](rahm-fb.png)"
   ]
  },
  {
   "cell_type": "markdown",
   "metadata": {
    "slideshow": {
     "slide_type": "slide"
    }
   },
   "source": [
    "![rahm-li](rahm-li.png)"
   ]
  },
  {
   "cell_type": "markdown",
   "metadata": {
    "slideshow": {
     "slide_type": "slide"
    }
   },
   "source": [
    "# Approaches\n",
    "\n",
    "- Clever use of external data\n",
    "  - E.g., U.S. Census name lists for gender\n",
    "- Look for keywords in profile\n",
    "  - \"African American Male\"\n",
    "  - \"Happy 21st birthday to me\"\n",
    "- Machine Learning"
   ]
  },
  {
   "cell_type": "code",
   "execution_count": 52,
   "metadata": {
    "collapsed": false,
    "slideshow": {
     "slide_type": "slide"
    }
   },
   "outputs": [
    {
     "name": "stdout",
     "output_type": "stream",
     "text": [
      "fetched 100 tweets\n"
     ]
    }
   ],
   "source": [
    "# Guessing gender\n",
    "import ConfigParser\n",
    "from TwitterAPI import TwitterAPI\n",
    "\n",
    "def get_twitter(config_file):\n",
    "    \"\"\" Read the config_file and construct an instance of TwitterAPI.\n",
    "    Args:\n",
    "      config_file ... A config file in ConfigParser format with Twitter credentials\n",
    "    Returns:\n",
    "      An instance of TwitterAPI.\n",
    "    \"\"\"\n",
    "    config = ConfigParser.ConfigParser()\n",
    "    config.read(config_file)\n",
    "    twitter = TwitterAPI(\n",
    "                   config.get('twitter', 'consumer_key'),\n",
    "                   config.get('twitter', 'consumer_secret'),\n",
    "                   config.get('twitter', 'access_token'),\n",
    "                   config.get('twitter', 'access_token_secret'))\n",
    "    return twitter\n",
    "\n",
    "\n",
    "def robust_request(twitter, resource, params, max_tries=5):\n",
    "    \"\"\" If a Twitter request fails, sleep for 15 minutes.\n",
    "    Do this at most max_tries times before quitting.\n",
    "    Args:\n",
    "      twitter .... A TwitterAPI object.\n",
    "      resource ... A resource string to request.\n",
    "      params ..... A parameter dictionary for the request.\n",
    "      max_tries .. The maximum number of tries to attempt.\n",
    "    Returns:\n",
    "      A TwitterResponse object, or None if failed.\n",
    "    \"\"\"\n",
    "    for i in range(max_tries):\n",
    "        request = twitter.request(resource, params)\n",
    "        if request.status_code == 200:\n",
    "            return request\n",
    "        else:\n",
    "            print >> sys.stderr, 'Got error:', request.text, '\\nsleeping for 15 minutes.'\n",
    "            sys.stderr.flush()\n",
    "            time.sleep(60 * 15)\n",
    "\n",
    "twitter = get_twitter('twitter.cfg')\n",
    "request = robust_request(twitter, 'search/tweets',\n",
    "                                  {'q': 'DonaldTrump',\n",
    "                                  'count': '100'})\n",
    "tweets = [t for t in request]\n",
    "print 'fetched %d tweets' % len(tweets)"
   ]
  },
  {
   "cell_type": "code",
   "execution_count": 53,
   "metadata": {
    "collapsed": false,
    "slideshow": {
     "slide_type": "slide"
    }
   },
   "outputs": [
    {
     "name": "stdout",
     "output_type": "stream",
     "text": [
      "Amanda Davis\n",
      "Star Sievert  \n",
      "Sheilah Morfin\n",
      "Aurore Nowlin  \n",
      "Justin Baragona\n",
      "Jacob Williams\n",
      "Darth Shwa\n",
      "Contemptor\n",
      "Lisette Pond\n",
      "Trang Younkin\n"
     ]
    }
   ],
   "source": [
    "# Print 10 names.\n",
    "names = [t['user']['name'] for t in tweets]\n",
    "print '\\n'.join(names[:10])"
   ]
  },
  {
   "cell_type": "code",
   "execution_count": 54,
   "metadata": {
    "collapsed": false,
    "slideshow": {
     "slide_type": "slide"
    }
   },
   "outputs": [
    {
     "name": "stdout",
     "output_type": "stream",
     "text": [
      "males:\n",
      "JAMES          3.318  3.318      1\n",
      "JOHN           3.271  6.589      2\n",
      "ROBERT         3.143  9.732      3\n",
      "MICHAEL        2.629 12.361      4\n",
      "WILLIAM        2.451 14.812      5\n",
      "DAVID          2.363 17.176      6\n",
      "RICHARD        1.703 18.878      7\n",
      "CHARLES        1.523 20.401      8\n",
      "JOSEPH         1.404 21.805      9\n",
      "THOMAS         1.380 23.185     10\n",
      "\n",
      "females:\n",
      "MARY           2.629  2.629      1\n",
      "PATRICIA       1.073  3.702      2\n",
      "LINDA          1.035  4.736      3\n",
      "BARBARA        0.980  5.716      4\n",
      "ELIZABETH      0.937  6.653      5\n",
      "JENNIFER       0.932  7.586      6\n",
      "MARIA          0.828  8.414      7\n",
      "SUSAN          0.794  9.209      8\n",
      "MARGARET       0.768  9.976      9\n",
      "DOROTHY        0.727 10.703     10\n"
     ]
    }
   ],
   "source": [
    "# Fetch census name data from:\n",
    "# http://www.census.gov/genealogy/www/data/1990surnames/index.html\n",
    "\n",
    "import requests\n",
    "males_url = 'http://www2.census.gov/topics/genealogy/' + \\\n",
    "            '1990surnames/dist.male.first'\n",
    "females_url = 'http://www2.census.gov/topics/genealogy/' + \\\n",
    "              '1990surnames/dist.female.first'\n",
    "males = requests.get(males_url).text.split('\\n')\n",
    "females = requests.get(females_url).text.split('\\n')\n",
    "print 'males:\\n', '\\n'.join(males[:10])\n",
    "print '\\nfemales:\\n', '\\n'.join(females[:10])"
   ]
  },
  {
   "cell_type": "code",
   "execution_count": 55,
   "metadata": {
    "collapsed": false,
    "slideshow": {
     "slide_type": "slide"
    }
   },
   "outputs": [
    {
     "name": "stdout",
     "output_type": "stream",
     "text": [
      "1219 male and 4275 female names\n",
      "males:\n",
      "trenton\n",
      "darrin\n",
      "emile\n",
      "jason\n",
      "ron\n",
      "ali\n",
      "rob\n",
      "rod\n",
      "monte\n",
      "steve\n",
      "\n",
      "females:\n",
      "fawn\n",
      "kymberly\n",
      "augustina\n",
      "evalyn\n",
      "augustine\n",
      "chieko\n",
      "linsey\n",
      "hermina\n",
      "shenika\n",
      "sonja\n"
     ]
    }
   ],
   "source": [
    "# Get names. \n",
    "male_names = set([m.split()[0].lower() for m in males if m])\n",
    "female_names = set([f.split()[0].lower() for f in females if f])\n",
    "print('%d male and %d female names' % (len(male_names), len(female_names)))\n",
    "print 'males:\\n', '\\n'.join(list(male_names)[:10])\n",
    "print '\\nfemales:\\n', '\\n'.join(list(female_names)[:10])"
   ]
  },
  {
   "cell_type": "code",
   "execution_count": 56,
   "metadata": {
    "collapsed": false,
    "slideshow": {
     "slide_type": "slide"
    }
   },
   "outputs": [],
   "source": [
    "def gender_by_name(tweets, male_names, female_names):\n",
    "    for t in tweets:\n",
    "        name = t['user']['name']\n",
    "        if name:\n",
    "            first = name.split()[0].lower()\n",
    "            if first in male_names:\n",
    "                t['gender'] = 'male'\n",
    "            elif first in female_names:\n",
    "                t['gender'] = 'female'\n",
    "            else:\n",
    "                t['gender'] = 'unknown'\n",
    "\n",
    "gender_by_name(tweets, male_names, female_names)"
   ]
  },
  {
   "cell_type": "code",
   "execution_count": 57,
   "metadata": {
    "collapsed": false,
    "slideshow": {
     "slide_type": "slide"
    }
   },
   "outputs": [
    {
     "name": "stdout",
     "output_type": "stream",
     "text": [
      "gender counts:\n",
      "Counter({'female': 37, 'male': 32, 'unknown': 31})\n",
      "female Amanda Davis\n",
      "female Star Sievert  \n",
      "female Sheilah Morfin\n",
      "female Aurore Nowlin  \n",
      "male Justin Baragona\n",
      "male Jacob Williams\n",
      "unknown Darth Shwa\n",
      "unknown Contemptor\n",
      "female Lisette Pond\n",
      "female Trang Younkin\n",
      "female Jessica White\n",
      "unknown Rykier\n",
      "male Victor Stewart\n",
      "female esther\n",
      "male Walter Branum\n",
      "male Andrew\n",
      "male Tracy\n",
      "female Juliann Jack  \n",
      "female Tonya Russell\n",
      "female  Betty Williams\n"
     ]
    }
   ],
   "source": [
    "from collections import Counter\n",
    "\n",
    "def print_genders(tweets):\n",
    "    print 'gender counts:\\n', Counter([t['gender'] for t in tweets])\n",
    "    for t in tweets[:20]:\n",
    "        print t['gender'], t['user']['name']\n",
    "    \n",
    "print_genders(tweets)"
   ]
  },
  {
   "cell_type": "code",
   "execution_count": 58,
   "metadata": {
    "collapsed": false,
    "slideshow": {
     "slide_type": "slide"
    }
   },
   "outputs": [
    {
     "name": "stdout",
     "output_type": "stream",
     "text": [
      "found 331 ambiguous names:\n",
      "\n",
      "jason\n",
      "ali\n",
      "roy\n",
      "marion\n",
      "cameron\n",
      "sung\n",
      "cody\n",
      "jessie\n",
      "paris\n",
      "demetrius\n",
      "young\n",
      "aaron\n",
      "edward\n",
      "daryl\n",
      "billie\n",
      "jack\n",
      "andre\n",
      "louis\n",
      "joel\n",
      "michael\n"
     ]
    }
   ],
   "source": [
    "# What about ambiguous names?\n",
    "\n",
    "def print_ambiguous_names(male_names, female_names):\n",
    "    ambiguous = [n for n in male_names if n in female_names]\n",
    "    print 'found %d ambiguous names:\\n'% len(ambiguous)\n",
    "    print '\\n'.join(ambiguous[:20])\n",
    "    \n",
    "print_ambiguous_names(male_names, female_names)"
   ]
  },
  {
   "cell_type": "code",
   "execution_count": 59,
   "metadata": {
    "collapsed": false,
    "slideshow": {
     "slide_type": "slide"
    }
   },
   "outputs": [
    {
     "name": "stdout",
     "output_type": "stream",
     "text": [
      "found 0 ambiguous names:\n",
      "\n",
      "\n",
      "1146 male and 4017 female names\n"
     ]
    }
   ],
   "source": [
    "# Keep names that are more frequent in one gender than the other.\n",
    "males_pct = dict([(m.split()[0].lower(), float(m.split()[1]))\n",
    "                  for m in males if m])\n",
    "females_pct = dict([(f.split()[0].lower(), float(f.split()[1]))\n",
    "                    for f in females if f])\n",
    "\n",
    "male_names = set([m for m in male_names if m not in female_names or\n",
    "              males_pct[m] > females_pct[m]])\n",
    "female_names = set([f for f in female_names if f not in male_names or\n",
    "              females_pct[f] > males_pct[f]])\n",
    "\n",
    "print_ambiguous_names(male_names, female_names)\n",
    "print('%d male and %d female names' % (len(male_names), len(female_names)))"
   ]
  },
  {
   "cell_type": "code",
   "execution_count": 61,
   "metadata": {
    "collapsed": false,
    "slideshow": {
     "slide_type": "slide"
    }
   },
   "outputs": [
    {
     "name": "stdout",
     "output_type": "stream",
     "text": [
      "gender counts:\n",
      "Counter({'female': 40, 'unknown': 31, 'male': 29})\n",
      "female Amanda Davis\n",
      "female Star Sievert  \n",
      "female Sheilah Morfin\n",
      "female Aurore Nowlin  \n",
      "male Justin Baragona\n",
      "male Jacob Williams\n",
      "unknown Darth Shwa\n",
      "unknown Contemptor\n",
      "female Lisette Pond\n",
      "female Trang Younkin\n",
      "female Jessica White\n",
      "unknown Rykier\n",
      "male Victor Stewart\n",
      "female esther\n",
      "male Walter Branum\n",
      "male Andrew\n",
      "female Tracy\n",
      "female Juliann Jack  \n",
      "female Tonya Russell\n",
      "female  Betty Williams\n"
     ]
    }
   ],
   "source": [
    "gender_by_name(tweets, male_names, female_names)\n",
    "print_genders(tweets)"
   ]
  },
  {
   "cell_type": "code",
   "execution_count": 62,
   "metadata": {
    "collapsed": false,
    "slideshow": {
     "slide_type": "slide"
    }
   },
   "outputs": [
    {
     "name": "stdout",
     "output_type": "stream",
     "text": [
      "(u'The Sedrious God', 2)\n",
      "(u'BuffaloInABox.com', 1)\n",
      "(u'Rykier', 1)\n",
      "(u'Sophia92Brown', 1)\n",
      "(u'JJ', 1)\n",
      "(u'Akasha ~ Alien ~ K11', 1)\n",
      "(u'Nazario Esquivel', 1)\n",
      "(u'Contemptor', 1)\n",
      "(u'Hood Classics', 1)\n",
      "(u'Mr.Migazzz', 1)\n",
      "(u\"Jason's Grandpa\", 1)\n",
      "(u'K.I. Haaland', 1)\n",
      "(u'MrsP', 1)\n",
      "(u'Black Lives Mattered', 1)\n",
      "(u'redpilltwiceaday', 1)\n",
      "(u'TxSaya', 1)\n",
      "(u'la vida', 1)\n",
      "(u'Lary Garecki', 1)\n",
      "(u'#GodCountryfamily ', 1)\n",
      "(u'AbigailAdamsBrigade', 1)\n"
     ]
    }
   ],
   "source": [
    "# Who are the unknowns?\n",
    "# \"Filtered\" data can have big impact on analysis.\n",
    "\n",
    "unknown_names = Counter(t['user']['name']\n",
    "                        for t in tweets if t['gender'] == 'unknown')\n",
    "print '\\n'.join(str(x) for x in unknown_names.most_common(20))"
   ]
  },
  {
   "cell_type": "code",
   "execution_count": 78,
   "metadata": {
    "collapsed": false,
    "slideshow": {
     "slide_type": "slide"
    }
   },
   "outputs": [
    {
     "name": "stdout",
     "output_type": "stream",
     "text": [
      "Most Common Male Terms:\n",
      "(u'of', 11)\n",
      "(u'husband', 5)\n",
      "(u'bonniebo40', 5)\n",
      "(u'to', 4)\n",
      "(u'porque', 4)\n",
      "(u't', 4)\n",
      "(u'alcohol', 4)\n",
      "(u'i', 4)\n",
      "(u'artist', 3)\n",
      "(u'christian', 3)\n",
      "\n",
      "Most Common Female Terms:\n",
      "(u'of', 14)\n",
      "(u'and', 10)\n",
      "(u'lover', 9)\n",
      "(u'for', 5)\n",
      "(u'coach', 4)\n",
      "(u'fan', 4)\n",
      "(u'music', 4)\n",
      "(u'love', 4)\n",
      "(u'junkie', 4)\n",
      "(u'earth', 3)\n"
     ]
    }
   ],
   "source": [
    "# How do the profiles of male Twitter users differ from\n",
    "# those of female users?\n",
    "\n",
    "male_profiles = [t['user']['description'] for t in tweets\n",
    "                if t['gender'] == 'male']\n",
    "\n",
    "female_profiles = [t['user']['description'] for t in tweets\n",
    "                if t['gender'] == 'female']\n",
    "#male_profiles = [t['text'] for t in tweets\n",
    "#                if t['gender'] == 'male']\n",
    "\n",
    "#female_profiles = [t['text'] for t in tweets\n",
    "#                if t['gender'] == 'female']\n",
    "\n",
    "import re\n",
    "def tokenize(s):\n",
    "    return re.sub('\\W+', ' ', s).lower().split()\n",
    "\n",
    "male_words = Counter()\n",
    "female_words = Counter()\n",
    "\n",
    "for p in male_profiles:\n",
    "    male_words.update(Counter(tokenize(p)))\n",
    "                      \n",
    "for p in female_profiles:\n",
    "    female_words.update(Counter(tokenize(p)))\n",
    "\n",
    "print 'Most Common Male Terms:\\n', \\\n",
    "    '\\n'.join(str(x) for x in male_words.most_common(10))\n",
    "    \n",
    "print '\\nMost Common Female Terms:\\n', \\\n",
    "    '\\n'.join(str(x) for x in female_words.most_common(10))"
   ]
  },
  {
   "cell_type": "code",
   "execution_count": 79,
   "metadata": {
    "collapsed": false
   },
   "outputs": [
    {
     "name": "stdout",
     "output_type": "stream",
     "text": [
      "233\n",
      "301\n"
     ]
    }
   ],
   "source": [
    "print len(male_words)\n",
    "print len(female_words)"
   ]
  },
  {
   "cell_type": "code",
   "execution_count": 80,
   "metadata": {
    "collapsed": false,
    "slideshow": {
     "slide_type": "slide"
    }
   },
   "outputs": [
    {
     "name": "stdout",
     "output_type": "stream",
     "text": [
      "Top Male Terms (diff):\n",
      "(u'bonniebo40', -5)\n",
      "(u'husband', -5)\n",
      "(u'porque', -4)\n",
      "(u't', -4)\n",
      "(u'alcohol', -4)\n",
      "(u'co', -3)\n",
      "(u'pilot', -3)\n",
      "(u'http', -3)\n",
      "(u'no', -3)\n",
      "(u'u', -3)\n",
      "\n",
      "Top Female Terms (diff):\n",
      "(u'in', 3)\n",
      "(u'citizens', 3)\n",
      "(u'am', 3)\n",
      "(u'coach', 4)\n",
      "(u'fan', 4)\n",
      "(u'love', 4)\n",
      "(u'junkie', 4)\n",
      "(u'for', 5)\n",
      "(u'lover', 7)\n",
      "(u'and', 9)\n"
     ]
    }
   ],
   "source": [
    "# Compute difference\n",
    "diff_counts = dict([(w, female_words[w] - male_words[w])\n",
    "                    for w in\n",
    "                    set(female_words.keys()) | set(male_words.keys())])\n",
    "\n",
    "sorted_diffs = sorted(diff_counts.items(), key=lambda x: x[1])\n",
    "\n",
    "print 'Top Male Terms (diff):\\n', \\\n",
    "    '\\n'.join(str(x) for x in sorted_diffs[:10])\n",
    "\n",
    "print '\\nTop Female Terms (diff):\\n', \\\n",
    "    '\\n'.join(str(x) for x in sorted_diffs[-10:])"
   ]
  },
  {
   "cell_type": "markdown",
   "metadata": {
    "slideshow": {
     "slide_type": "slide"
    }
   },
   "source": [
    "** A problem with difference of counts:**\n",
    "\n",
    "What if we have more male than female words in total?"
   ]
  },
  {
   "cell_type": "markdown",
   "metadata": {
    "slideshow": {
     "slide_type": "slide"
    }
   },
   "source": [
    "*Solution:* ** Odds Ratio (OR)**\n",
    "\n",
    "$$ OR(w) = \\frac{p(w|\\hbox{female})}{p(w|\\hbox{male})} $$\n",
    "\n",
    "$$p(w|\\hbox{female}) = \\frac{\\hbox{freq}(w, \\hbox{female})}\n",
    "{\\sum_i \\hbox{freq}(w_i, \\hbox{female})} $$"
   ]
  },
  {
   "cell_type": "code",
   "execution_count": 81,
   "metadata": {
    "collapsed": false,
    "slideshow": {
     "slide_type": "slide"
    }
   },
   "outputs": [
    {
     "name": "stdout",
     "output_type": "stream",
     "text": [
      "[(u'of', 0.035483870967741936), (u'husband', 0.016129032258064516), (u'bonniebo40', 0.016129032258064516), (u'to', 0.012903225806451613), (u'porque', 0.012903225806451613), (u't', 0.012903225806451613), (u'alcohol', 0.012903225806451613), (u'i', 0.012903225806451613), (u'u', 0.00967741935483871), (u'artist', 0.00967741935483871)]\n"
     ]
    }
   ],
   "source": [
    "def counts_to_probs(gender_words):\n",
    "    \"\"\" Compute probability of each term according to the frequency\n",
    "    in a gender. \"\"\"\n",
    "    total = 1. * sum(gender_words.values())\n",
    "    return dict([(word, count / total)\n",
    "                 for word, count in gender_words.items()])\n",
    "\n",
    "male_probs = counts_to_probs(male_words)\n",
    "female_probs = counts_to_probs(female_words)\n",
    "print sorted(male_probs.items(), key=lambda x: -x[1])[:10]"
   ]
  },
  {
   "cell_type": "code",
   "execution_count": 82,
   "metadata": {
    "collapsed": false,
    "slideshow": {
     "slide_type": "slide"
    }
   },
   "outputs": [
    {
     "ename": "KeyError",
     "evalue": "u'all'",
     "output_type": "error",
     "traceback": [
      "\u001b[0;31m---------------------------------------------------------------------------\u001b[0m",
      "\u001b[0;31mKeyError\u001b[0m                                  Traceback (most recent call last)",
      "\u001b[0;32m<ipython-input-82-6f72aa3012f6>\u001b[0m in \u001b[0;36m<module>\u001b[0;34m()\u001b[0m\n\u001b[1;32m      3\u001b[0m                  for w in set(male_probs) | set(female_probs)])\n\u001b[1;32m      4\u001b[0m \u001b[0;34m\u001b[0m\u001b[0m\n\u001b[0;32m----> 5\u001b[0;31m \u001b[0mors\u001b[0m \u001b[0;34m=\u001b[0m \u001b[0modds_ratios\u001b[0m\u001b[0;34m(\u001b[0m\u001b[0mmale_probs\u001b[0m\u001b[0;34m,\u001b[0m \u001b[0mfemale_probs\u001b[0m\u001b[0;34m)\u001b[0m\u001b[0;34m\u001b[0m\u001b[0m\n\u001b[0m",
      "\u001b[0;32m<ipython-input-82-6f72aa3012f6>\u001b[0m in \u001b[0;36modds_ratios\u001b[0;34m(male_probs, female_probs)\u001b[0m\n\u001b[1;32m      1\u001b[0m \u001b[0;32mdef\u001b[0m \u001b[0modds_ratios\u001b[0m\u001b[0;34m(\u001b[0m\u001b[0mmale_probs\u001b[0m\u001b[0;34m,\u001b[0m \u001b[0mfemale_probs\u001b[0m\u001b[0;34m)\u001b[0m\u001b[0;34m:\u001b[0m\u001b[0;34m\u001b[0m\u001b[0m\n\u001b[1;32m      2\u001b[0m     return dict([(w, female_probs[w] / male_probs[w])\n\u001b[0;32m----> 3\u001b[0;31m                  for w in set(male_probs) | set(female_probs)])\n\u001b[0m\u001b[1;32m      4\u001b[0m \u001b[0;34m\u001b[0m\u001b[0m\n\u001b[1;32m      5\u001b[0m \u001b[0mors\u001b[0m \u001b[0;34m=\u001b[0m \u001b[0modds_ratios\u001b[0m\u001b[0;34m(\u001b[0m\u001b[0mmale_probs\u001b[0m\u001b[0;34m,\u001b[0m \u001b[0mfemale_probs\u001b[0m\u001b[0;34m)\u001b[0m\u001b[0;34m\u001b[0m\u001b[0m\n",
      "\u001b[0;31mKeyError\u001b[0m: u'all'"
     ]
    }
   ],
   "source": [
    "def odds_ratios(male_probs, female_probs):\n",
    "    return dict([(w, female_probs[w] / male_probs[w])\n",
    "                 for w in set(male_probs) | set(female_probs)])\n",
    "\n",
    "ors = odds_ratios(male_probs, female_probs)"
   ]
  },
  {
   "cell_type": "code",
   "execution_count": 83,
   "metadata": {
    "collapsed": false
   },
   "outputs": [
    {
     "name": "stdout",
     "output_type": "stream",
     "text": [
      "233\n",
      "301\n"
     ]
    }
   ],
   "source": [
    "print len(male_probs)\n",
    "print len(female_probs)"
   ]
  },
  {
   "cell_type": "markdown",
   "metadata": {
    "slideshow": {
     "slide_type": "slide"
    }
   },
   "source": [
    "** How to deal with 0-probabilities? **\n",
    "\n",
    "$$p(w|\\hbox{male}) = \\frac{\\hbox{freq}(w, \\hbox{male})}\n",
    "{\\sum_i \\hbox{freq}(w_i, \\hbox{male})} $$\n",
    "\n",
    "$\\hbox{freq}(w, \\hbox{male}) = 0$\n",
    "\n",
    "Do we really believe there is **0** probability of a male using this term?\n"
   ]
  },
  {
   "cell_type": "markdown",
   "metadata": {
    "slideshow": {
     "slide_type": "slide"
    }
   },
   "source": [
    "** Additive Smoothing **\n",
    "\n",
    "Reserve small amount of counts (e.g., 1) for unseen observations.\n",
    "\n",
    "E.g., assume we've seen each word at least once in each class.\n",
    "\n",
    "$$p(w|\\hbox{male}) = \\frac{\\hbox{1 + freq}(w, \\hbox{male})}\n",
    "{|W| + \\sum_i \\hbox{freq}(w_i, \\hbox{male})} $$\n",
    "\n",
    "$|W|$: number of unique words."
   ]
  },
  {
   "cell_type": "code",
   "execution_count": 84,
   "metadata": {
    "collapsed": false,
    "slideshow": {
     "slide_type": "slide"
    }
   },
   "outputs": [
    {
     "name": "stdout",
     "output_type": "stream",
     "text": [
      "(u'of', 0.015503875968992248)\n",
      "(u'bonniebo40', 0.007751937984496124)\n",
      "(u'husband', 0.007751937984496124)\n",
      "(u'to', 0.006459948320413436)\n",
      "(u'alcohol', 0.006459948320413436)\n",
      "(u'porque', 0.006459948320413436)\n",
      "(u'i', 0.006459948320413436)\n",
      "(u't', 0.006459948320413436)\n",
      "(u'christian', 0.00516795865633075)\n",
      "(u'guru', 0.00516795865633075)\n"
     ]
    }
   ],
   "source": [
    "# Additive smoothing. Add count of 1 for all words.\n",
    "all_words = set(male_words) | set(female_words)\n",
    "male_words.update(all_words)  \n",
    "female_words.update(all_words)\n",
    "\n",
    "male_probs = counts_to_probs(male_words)\n",
    "female_probs = counts_to_probs(female_words)\n",
    "print '\\n'.join(str(x) for x in \n",
    "                sorted(male_probs.items(), key=lambda x: -x[1])[:10])"
   ]
  },
  {
   "cell_type": "code",
   "execution_count": 85,
   "metadata": {
    "collapsed": false,
    "slideshow": {
     "slide_type": "slide"
    }
   },
   "outputs": [
    {
     "name": "stdout",
     "output_type": "stream",
     "text": [
      "Top Female Terms (OR):\n",
      "(u'for', 5.086527929901424)\n",
      "(u'and', 4.662650602409639)\n",
      "(u'coach', 4.238773274917853)\n",
      "(u'fan', 4.238773274917853)\n",
      "(u'love', 4.238773274917853)\n",
      "(u'junkie', 4.238773274917853)\n",
      "(u'drinking', 3.3910186199342824)\n",
      "(u'family', 3.3910186199342824)\n",
      "(u'god', 3.3910186199342824)\n",
      "(u'earth', 3.3910186199342824)\n",
      "(u'grandmother', 3.3910186199342824)\n",
      "(u'many', 3.3910186199342824)\n",
      "(u'in', 3.3910186199342824)\n",
      "(u'citizens', 3.3910186199342824)\n",
      "(u'am', 3.3910186199342824)\n",
      "(u'lover', 2.8258488499452357)\n",
      "(u'hats', 2.543263964950712)\n",
      "(u'spiritual', 2.543263964950712)\n",
      "(u'healer', 2.543263964950712)\n",
      "(u'ever', 2.543263964950712)\n",
      "\n",
      "Top Male Terms (OR):\n",
      "(u'age', 0.4238773274917853)\n",
      "(u'all', 0.28258488499452356)\n",
      "(u'siempre', 0.28258488499452356)\n",
      "(u'es', 0.28258488499452356)\n",
      "(u'hack', 0.28258488499452356)\n",
      "(u'are', 0.28258488499452356)\n",
      "(u'photos', 0.28258488499452356)\n",
      "(u'it', 0.28258488499452356)\n",
      "(u'or', 0.28258488499452356)\n",
      "(u'editor', 0.28258488499452356)\n",
      "(u'co', 0.21193866374589265)\n",
      "(u'pilot', 0.21193866374589265)\n",
      "(u'http', 0.21193866374589265)\n",
      "(u'no', 0.21193866374589265)\n",
      "(u'u', 0.21193866374589265)\n",
      "(u'porque', 0.16955093099671414)\n",
      "(u'alcohol', 0.16955093099671414)\n",
      "(u't', 0.16955093099671414)\n",
      "(u'bonniebo40', 0.14129244249726178)\n",
      "(u'husband', 0.14129244249726178)\n"
     ]
    }
   ],
   "source": [
    "ors = odds_ratios(male_probs, female_probs)\n",
    "\n",
    "sorted_ors = sorted(ors.items(), key=lambda x: -x[1])\n",
    "\n",
    "print 'Top Female Terms (OR):\\n', \\\n",
    "    '\\n'.join(str(x) for x in sorted_ors[:20])\n",
    "\n",
    "print '\\nTop Male Terms (OR):\\n', \\\n",
    "    '\\n'.join(str(x) for x in sorted_ors[-20:])"
   ]
  }
 ],
 "metadata": {
  "kernelspec": {
   "display_name": "Python 2",
   "language": "python",
   "name": "python2"
  },
  "language_info": {
   "codemirror_mode": {
    "name": "ipython",
    "version": 2
   },
   "file_extension": ".py",
   "mimetype": "text/x-python",
   "name": "python",
   "nbconvert_exporter": "python",
   "pygments_lexer": "ipython2",
   "version": "2.7.5"
  }
 },
 "nbformat": 4,
 "nbformat_minor": 0
}
