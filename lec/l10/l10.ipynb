{
 "cells": [
  {
   "cell_type": "markdown",
   "metadata": {
    "slideshow": {
     "slide_type": "slide"
    }
   },
   "source": [
    "# CS579: Lecture 10  \n",
    "\n",
    "**Sentiment Analysis**\n",
    "\n",
    "*[Dr. Aron Culotta](http://cs.iit.edu/~culotta)*  \n",
    "*[Illinois Institute of Technology](http://iit.edu)*\n",
    "\n",
    "*Warning: Live Twitter data is used below, some of which may be offensive.*"
   ]
  },
  {
   "cell_type": "markdown",
   "metadata": {
    "slideshow": {
     "slide_type": "slide"
    }
   },
   "source": [
    "**sen·ti·ment**\n",
    "\n",
    "1. a view of or attitude toward a situation or event; an opinion.\n",
    "2. a feeling or emotion.\n"
   ]
  },
  {
   "cell_type": "markdown",
   "metadata": {
    "slideshow": {
     "slide_type": "slide"
    }
   },
   "source": [
    "**sen·ti·ment &nbsp; a·nal·y·sis ** \n",
    "\n",
    "1. classification of documents/messages by sentiment"
   ]
  },
  {
   "cell_type": "markdown",
   "metadata": {
    "slideshow": {
     "slide_type": "slide"
    }
   },
   "source": [
    "# Examples"
   ]
  },
  {
   "cell_type": "markdown",
   "metadata": {
    "slideshow": {
     "slide_type": "slide"
    }
   },
   "source": [
    "![tmnt.png](tmnt.png)"
   ]
  },
  {
   "cell_type": "markdown",
   "metadata": {
    "slideshow": {
     "slide_type": "slide"
    }
   },
   "source": [
    "![ufo](ufo.png)\n",
    "\n",
    "![ufo-review](ufo-review.png)"
   ]
  },
  {
   "cell_type": "markdown",
   "metadata": {
    "slideshow": {
     "slide_type": "slide"
    }
   },
   "source": [
    "![mcds](mcds.png)"
   ]
  },
  {
   "cell_type": "markdown",
   "metadata": {
    "slideshow": {
     "slide_type": "slide"
    }
   },
   "source": [
    "![rauner](rauner.png)\n",
    "![quinn](quinn.png)"
   ]
  },
  {
   "cell_type": "markdown",
   "metadata": {
    "slideshow": {
     "slide_type": "slide"
    }
   },
   "source": [
    "## Why is this hard?\n"
   ]
  },
  {
   "cell_type": "markdown",
   "metadata": {
    "slideshow": {
     "slide_type": "slide"
    }
   },
   "source": [
    "# Two Approaches\n",
    "\n",
    "- Lexicons (word lists)\n",
    "\n",
    "- Machine learning"
   ]
  },
  {
   "cell_type": "markdown",
   "metadata": {
    "slideshow": {
     "slide_type": "slide"
    }
   },
   "source": [
    "# Lexicons\n",
    "\n",
    "- List of terms with positive/negative/neutral sentiment\n",
    "\n",
    "- E.g., AFINN: http://neuro.imm.dtu.dk/wiki/AFINN\n"
   ]
  },
  {
   "cell_type": "code",
   "execution_count": 15,
   "metadata": {
    "collapsed": false
   },
   "outputs": [
    {
     "name": "stdout",
     "output_type": "stream",
     "text": [
      "read 2462 AFINN terms.\n",
      "E.g.: [('limited', -1), ('suicidal', -2), ('pardon', 2), ('desirable', 2), ('protest', -2), ('lurking', -1), ('controversial', -2), ('hating', -3), ('ridiculous', -3), ('hate', -3)]\n"
     ]
    }
   ],
   "source": [
    "# Download the AFINN lexicon, unzip, and read the latest word list in AFINN-111.txt\n",
    "from StringIO import StringIO\n",
    "from zipfile import ZipFile\n",
    "from urllib import urlopen\n",
    "\n",
    "url = urlopen('http://www2.compute.dtu.dk/~faan/data/AFINN.zip')\n",
    "zipfile = ZipFile(StringIO(url.read()))\n",
    "afinn_file = zipfile.open('AFINN/AFINN-111.txt')\n",
    "\n",
    "afinn = dict()\n",
    "\n",
    "for line in afinn_file:\n",
    "    parts = line.strip().split()\n",
    "    if len(parts) == 2:\n",
    "        afinn[parts[0]] = int(parts[1])\n",
    "\n",
    "print 'read', len(afinn), 'AFINN terms.\\nE.g.:', afinn.items()[:10]"
   ]
  },
  {
   "cell_type": "code",
   "execution_count": 18,
   "metadata": {
    "collapsed": false
   },
   "outputs": [
    {
     "data": {
      "text/plain": [
       "2462"
      ]
     },
     "execution_count": 18,
     "metadata": {},
     "output_type": "execute_result"
    }
   ],
   "source": [
    "len(afinn)"
   ]
  },
  {
   "cell_type": "code",
   "execution_count": 19,
   "metadata": {
    "collapsed": false
   },
   "outputs": [
    {
     "data": {
      "image/png": "[encoded data removed]",
      "text/plain": [
       "<matplotlib.figure.Figure at 0x10a611fd0>"
      ]
     },
     "metadata": {},
     "output_type": "display_data"
    }
   ],
   "source": [
    "# What is the distribution of scores?\n",
    "from collections import Counter\n",
    "import matplotlib.pyplot as plt\n",
    "%matplotlib inline\n",
    "\n",
    "counts = Counter(afinn.values())\n",
    "vals = sorted(counts.keys())\n",
    "\n",
    "plt.bar(vals, counts.values())\n",
    "plt.xticks(vals)\n",
    "plt.xlabel('sentiment')\n",
    "plt.ylabel('count')\n",
    "plt.show()"
   ]
  },
  {
   "cell_type": "code",
   "execution_count": 21,
   "metadata": {
    "collapsed": false
   },
   "outputs": [
    {
     "name": "stdout",
     "output_type": "stream",
     "text": [
      "AFINN:\n",
      "\tscam=-2\n",
      "\tbroken=-1\n",
      "-3.0\n"
     ]
    }
   ],
   "source": [
    "# How do we score a document?\n",
    "def afinn_sentiment(terms, afinn):\n",
    "    total = 0.\n",
    "    for t in terms:\n",
    "        if t in afinn:\n",
    "            print '\\t%s=%d' % (t, afinn[t])\n",
    "            total += afinn[t]\n",
    "    return total\n",
    "    \n",
    "doc = \"i don't know if this is a scam or if mine was broken\".split()\n",
    "print 'AFINN:\\n', afinn_sentiment(doc, afinn)"
   ]
  },
  {
   "cell_type": "code",
   "execution_count": 22,
   "metadata": {
    "collapsed": false
   },
   "outputs": [
    {
     "name": "stdout",
     "output_type": "stream",
     "text": [
      "AFINN:\n",
      "\tgood=3\n",
      "\tbad=-3\n",
      "0.0\n"
     ]
    }
   ],
   "source": [
    "# What if mixed sentiment?\n",
    "doc = \"it has a hokey plot that is both to good and bad\".split()\n",
    "print 'AFINN:\\n', afinn_sentiment(doc, afinn)"
   ]
  },
  {
   "cell_type": "code",
   "execution_count": 23,
   "metadata": {
    "collapsed": false
   },
   "outputs": [
    {
     "name": "stdout",
     "output_type": "stream",
     "text": [
      "AFINN:\n",
      "\tgood=3\n",
      "\tbad=-3\n",
      "(3, 3)\n"
     ]
    }
   ],
   "source": [
    "# Distinguish neutral from pos/neg.\n",
    "# Return two scores per document.\n",
    "def afinn_sentiment2(terms, afinn, verbose=False):\n",
    "    pos = 0\n",
    "    neg = 0\n",
    "    for t in terms:\n",
    "        if t in afinn:\n",
    "            if verbose:\n",
    "                print '\\t%s=%d' % (t, afinn[t])\n",
    "            if afinn[t] > 0:\n",
    "                pos += afinn[t]\n",
    "            else:\n",
    "                neg += -1 * afinn[t]\n",
    "    return pos, neg\n",
    "\n",
    "doc = \"it has a hokey plot that is both to good and bad\".split()\n",
    "print 'AFINN:\\n', afinn_sentiment2(doc, afinn, verbose=True)"
   ]
  },
  {
   "cell_type": "code",
   "execution_count": 24,
   "metadata": {
    "collapsed": false
   },
   "outputs": [],
   "source": [
    "import ConfigParser\n",
    "from TwitterAPI import TwitterAPI\n",
    "\n",
    "# Get some tweets about McDonald's\n",
    "\n",
    "def get_twitter(config_file):\n",
    "    \"\"\" Read the config_file and construct an instance of TwitterAPI.\n",
    "    Args:\n",
    "      config_file ... A config file in ConfigParser format with Twitter credentials\n",
    "    Returns:\n",
    "      An instance of TwitterAPI.\n",
    "    \"\"\"\n",
    "    config = ConfigParser.ConfigParser()\n",
    "    config.read(config_file)\n",
    "    twitter = TwitterAPI(\n",
    "                   config.get('twitter', 'consumer_key'),\n",
    "                   config.get('twitter', 'consumer_secret'),\n",
    "                   config.get('twitter', 'access_token'),\n",
    "                   config.get('twitter', 'access_token_secret'))\n",
    "    return twitter\n",
    "\n",
    "twitter = get_twitter('twitter.cfg')\n",
    "tweets = []\n",
    "for r in twitter.request('search/tweets', {'q': 'mcdonalds', 'count': 100}):\n",
    "    tweets.append(r)"
   ]
  },
  {
   "cell_type": "code",
   "execution_count": 25,
   "metadata": {
    "collapsed": false
   },
   "outputs": [
    {
     "name": "stdout",
     "output_type": "stream",
     "text": [
      "read 100 mcdonalds tweets\n"
     ]
    }
   ],
   "source": [
    "print 'read %d mcdonalds tweets' % len(tweets)"
   ]
  },
  {
   "cell_type": "code",
   "execution_count": 29,
   "metadata": {
    "collapsed": false
   },
   "outputs": [
    {
     "name": "stdout",
     "output_type": "stream",
     "text": [
      "tokenized, e.g., \n",
      "RT @KamikazeCapilar: No entiendo a la gente que va a Mcdonalds a comer ensalada\n",
      "to\n",
      "[u'rt', u'kamikazecapilar', u'no', u'entiendo', u'a', u'la', u'gente', u'que', u'va', u'a', u'mcdonalds', u'a', u'comer', u'ensalada']\n"
     ]
    }
   ],
   "source": [
    "# Tokenize tweets\n",
    "import re\n",
    "\n",
    "def tokenize(text):\n",
    "    return re.sub('\\W+', ' ', text.lower()).split()\n",
    "\n",
    "tokens = [tokenize(t['text']) for t in tweets]\n",
    "print 'tokenized, e.g., \\n%s\\nto\\n%s' % (tweets[50]['text'], tokens[50])   "
   ]
  },
  {
   "cell_type": "code",
   "execution_count": 30,
   "metadata": {
    "collapsed": false
   },
   "outputs": [],
   "source": [
    "positives = []\n",
    "negatives = []\n",
    "for tweet in tokens:\n",
    "    pos, neg = afinn_sentiment2(tweet, afinn)\n",
    "    if pos > neg:\n",
    "        positives.append((' '.join(tweet), pos, neg))\n",
    "    elif neg > pos:\n",
    "        negatives.append((' '.join(tweet), pos, neg))"
   ]
  },
  {
   "cell_type": "code",
   "execution_count": 31,
   "metadata": {
    "collapsed": false
   },
   "outputs": [
    {
     "name": "stdout",
     "output_type": "stream",
     "text": [
      "7 0 rt guncalls chickfila hi welcome to chickfila it s a beautiful day it is 72 and you are blessed abundantly how may i help you mcdonal\n",
      "6 0 khack best birthday present ever let s celebrate together on 10 6 kyle\n",
      "4 0 that mcdonalds was just amazing\n",
      "4 1 no jen i m not coming back to mcdonalds lmao\n",
      "4 0 kinda want mcdonalds fries lol\n",
      "3 0 rt pledgeszn 10 free chicken nugs from mcdonalds since the texans had 100 rush yards rt to help sorority girls everywhere\n",
      "3 1 rt robtm_ two years ago i was in mcdonalds with no right direction today i own a successful business anything is possible http t c\n",
      "3 0 i ve had them but i ve gotta say i love mcdonalds a little more https t co rgznwzvfgt\n",
      "3 0 rt bobbybatson06 hanging w my buddy ronaldmcdonald 90minutesheaven mcdonalds love fries fries mcdonalds 90minutesinheaven http t\n",
      "3 0 pharrell teste le nouveau grand premium de mcdonald s mcdonald s vient de lancer un nouveau sandwich c est http t co w7p2jpmprm\n",
      "3 1 rt robtm_ two years ago i was in mcdonalds with no right direction today i own a successful business anything is possible http t c\n",
      "3 1 pois0ndead sorry to hear that if you d like to speak to customer services please contact them via http t co oqemn29pdp\n",
      "3 1 rt robtm_ two years ago i was in mcdonalds with no right direction today i own a successful business anything is possible http t c\n",
      "3 1 rt robtm_ two years ago i was in mcdonalds with no right direction today i own a successful business anything is possible http t c\n",
      "3 1 rt robtm_ two years ago i was in mcdonalds with no right direction today i own a successful business anything is possible http t c\n",
      "3 0 two 1988 mcdonalds beach toy happy meal birdie character seaside submarine link http t co nrhwztols5 http t co vsyb12izrx\n",
      "3 0 rt cournflake i m being followed by real obey lol what a epic day first i get mcdonalds for dinner and now this hot diggity dog this\n",
      "3 1 rt robtm_ two years ago i was in mcdonalds with no right direction today i own a successful business anything is possible http t c\n",
      "3 1 rt robtm_ two years ago i was in mcdonalds with no right direction today i own a successful business anything is possible http t c\n",
      "3 0 rt cournflake i m being followed by real obey lol what a epic day first i get mcdonalds for dinner and now this hot diggity dog this\n",
      "2 1 m_streb mornings can be hard but alldaybreakfast helps you start when you re ready see you soon matt\n",
      "2 0 mcdonaldsksa like this http t co e7ss4tvhzx\n",
      "2 0 colleendoran unless you go to a fast food joint like mcdonalds\n",
      "2 0 mrskatiedid pamayres noone likes to see litter here s what we re doing to tackle it http t co bkls1jpdg3\n",
      "1 0 can someone buy me mcdonalds a mcflurry please\n",
      "1 0 here s when chattanooga area mcdonald s restaurants start all day breakfast chattanooga times free press ch http t co 8pazluohii\n",
      "1 0 rt julesx416 kripparrian wore one of your t shirts last night mcdonalds guy recognized it and gave me free fries extra salty\n",
      "1 0 raphaspizza em you are really kool and pretty you and raphas friendship is goals you are always there for me amp we always end up in mcdonalds\n",
      "1 0 mcdonalds does this mean a free breakfast on the house\n",
      "1 0 rt niallflashbacks convinced their tour bus driver to use the mcdonalds drive thru http t co nv9eu2aund\n",
      "1 0 mcdonalds yes ladssss\n",
      "1 0 joe_munsey we couldn t agree more joe alldaybreakfast is coming starting 10 6 let the countdown begin\n"
     ]
    }
   ],
   "source": [
    "# Print top positives:\n",
    "for tweet, pos, neg in sorted(positives, key=lambda x: x[1], reverse=True):\n",
    "    print pos, neg, tweet"
   ]
  },
  {
   "cell_type": "code",
   "execution_count": 32,
   "metadata": {
    "collapsed": false
   },
   "outputs": [
    {
     "name": "stdout",
     "output_type": "stream",
     "text": [
      "1\n"
     ]
    }
   ],
   "source": [
    "print afinn['free']"
   ]
  },
  {
   "cell_type": "code",
   "execution_count": 33,
   "metadata": {
    "collapsed": false
   },
   "outputs": [
    {
     "name": "stdout",
     "output_type": "stream",
     "text": [
      "0 8 rt roach_nigga when the fuck ass mcdonalds worker nigga only give you 1 sauce for 20 mcnuggets http t co i0ognskfcm\n",
      "0 6 rt hoeverses haters gonna hate hoes gonna hoe and mcdonalds workers gonna give attitude when u ask for extra sauce\n",
      "3 4 my trust so fucked up ion even like to give mcdonalds my money before they give me my food\n",
      "1 4 hey mcdonalds no matter what you say in your uk commercials you re still crap\n",
      "0 4 rt mryungnsonneek that burger put me in a coma fuck you mcdonalds\n",
      "2 3 i liked a youtube video from alltime10s http t co 0dyfryymbm 10 disgusting facts about mcdonalds\n",
      "1 2 rt extrasexual mcdonalds in japan is cherry blossom themed i m crying it s so pretty http t co o2t6vosrqz\n",
      "0 2 new mcdonald s organic burger half the taste twice the shame http t co 6n2ybilh9i via esquire\n",
      "1 2 rt extrasexual mcdonalds in japan is cherry blossom themed i m crying it s so pretty http t co o2t6vosrqz\n",
      "0 2 if i ever see this again i will be filing a lawsuit mcdonalds http t co q0fw35zv9i\n",
      "0 1 alert all day breakfast at the mcdonalds in the lsu union lsucheckpoint http t co sqwwxjjrfv\n",
      "0 1 rt kamikazecapilar no entiendo a la gente que va a mcdonalds a comer ensalada\n",
      "0 1 rt anawards stillsbyhill mcdonalds how hard was that how about a vegetarian option doyourjob meatlessmonday\n"
     ]
    }
   ],
   "source": [
    "# Print top negatives:\n",
    "for tweet, pos, neg in sorted(negatives, key=lambda x: x[2], reverse=True):\n",
    "    print pos, neg, tweet"
   ]
  },
  {
   "cell_type": "markdown",
   "metadata": {},
   "source": [
    "# Sentiment Trends?\n",
    "![politico](politico.png)\n",
    "\n",
    "What can go wrong?"
   ]
  },
  {
   "cell_type": "code",
   "execution_count": 34,
   "metadata": {
    "collapsed": false
   },
   "outputs": [
    {
     "name": "stdout",
     "output_type": "stream",
     "text": [
      "no count=11 sentiment=-1\n",
      "successful count=7 sentiment=3\n",
      "hard count=4 sentiment=-1\n",
      "free count=4 sentiment=1\n",
      "like count=4 sentiment=2\n",
      "lol count=3 sentiment=3\n",
      "pretty count=3 sentiment=1\n",
      "love count=2 sentiment=3\n",
      "fuck count=2 sentiment=-4\n",
      "help count=2 sentiment=2\n",
      "please count=2 sentiment=1\n"
     ]
    }
   ],
   "source": [
    "# Which words contribute most to sentiment?\n",
    "all_counts = Counter()\n",
    "for tweet in tokens:\n",
    "    all_counts.update(tweet)\n",
    "sorted_tokens = sorted(all_counts.items(), key=lambda x:x[1], reverse=True)\n",
    "i = 0\n",
    "for token, count in sorted_tokens:\n",
    "    if token in afinn:\n",
    "        print '%s count=%d sentiment=%d' % (token, count, afinn[token])\n",
    "        i += 1\n",
    "        if i > 10:\n",
    "            break"
   ]
  },
  {
   "cell_type": "markdown",
   "metadata": {},
   "source": [
    "# Part of speech?\n",
    "\n",
    "> *I hate McDonlads.*  \n",
    "> *Hate speech is wrong.*\n",
    "\n",
    "> *Rauner is lying.*  \n",
    "> *Lying in bed with the flu.*\n",
    "\n",
    "Noun/verb/adjective form of term may have different sentiment."
   ]
  },
  {
   "cell_type": "markdown",
   "metadata": {
    "slideshow": {
     "slide_type": "slide"
    }
   },
   "source": [
    "# WordNet\n",
    "\n",
    "- A database of words and their relations\n",
    "- http://wordnet.princeton.edu/\n",
    "- Statistics: http://wordnet.princeton.edu/wordnet/man/wnstats.7WN.html"
   ]
  },
  {
   "cell_type": "markdown",
   "metadata": {
    "slideshow": {
     "slide_type": "slide"
    }
   },
   "source": [
    "# WordNet\n",
    "\n",
    "- **Synset:**\n",
    "  - A list of synonyms\n",
    "  - E.g. [dog](http://wordnetweb.princeton.edu/perl/webwn?s=dog&sub=Search+WordNet&o2=&o0=1&o8=1&o1=1&o7=&o5=&o9=&o6=&o3=&o4=&h=11000000000000000000001000000000)\n",
    "- **Hypernym:**\n",
    "  - Y is a Hypernym of X if every X is a kind of Y\n",
    "    - **canine** is a hypernym of **dog**"
   ]
  },
  {
   "cell_type": "markdown",
   "metadata": {},
   "source": [
    "# SentiWordNet\n",
    "\n",
    "http://sentiwordnet.isti.cnr.it/"
   ]
  },
  {
   "cell_type": "code",
   "execution_count": 35,
   "metadata": {
    "collapsed": false
   },
   "outputs": [
    {
     "name": "stdout",
     "output_type": "stream",
     "text": [
      "<happy.a.01: PosScore=0.875 NegScore=0.0>\n"
     ]
    }
   ],
   "source": [
    "from nltk.corpus import sentiwordnet as swn\n",
    "# Depends on nltk (pip install nltk)\n",
    "# See http://www.nltk.org/data.html\n",
    "happy = swn.senti_synsets('happy', 'a')[0]\n",
    "print happy"
   ]
  },
  {
   "cell_type": "code",
   "execution_count": 39,
   "metadata": {
    "collapsed": false
   },
   "outputs": [
    {
     "name": "stdout",
     "output_type": "stream",
     "text": [
      "<hate.n.01: PosScore=0.125 NegScore=0.375>\n"
     ]
    }
   ],
   "source": [
    "sad = swn.senti_synsets('hate', 'n')[0]\n",
    "print sad"
   ]
  }
 ],
 "metadata": {
  "kernelspec": {
   "display_name": "Python 2",
   "language": "python",
   "name": "python2"
  },
  "language_info": {
   "codemirror_mode": {
    "name": "ipython",
    "version": 2
   },
   "file_extension": ".py",
   "mimetype": "text/x-python",
   "name": "python",
   "nbconvert_exporter": "python",
   "pygments_lexer": "ipython2",
   "version": "2.7.5"
  }
 },
 "nbformat": 4,
 "nbformat_minor": 0
}
